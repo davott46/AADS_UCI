{
 "cells": [
  {
   "cell_type": "code",
   "execution_count": 5,
   "id": "e133c24a",
   "metadata": {},
   "outputs": [
    {
     "name": "stdout",
     "output_type": "stream",
     "text": [
      "Fitting 5 folds for each of 32 candidates, totalling 160 fits\n",
      "Best parameters: {'classifier__max_depth': 30, 'classifier__max_features': 0.5, 'classifier__min_samples_leaf': 2, 'classifier__min_samples_split': 2, 'classifier__n_estimators': 800}\n",
      "Best cross-validation log loss: 0.289\n"
     ]
    }
   ],
   "source": [
    "from sklearn.compose import ColumnTransformer\n",
    "from sklearn.pipeline import Pipeline\n",
    "from sklearn.preprocessing import StandardScaler, OneHotEncoder\n",
    "from sklearn.ensemble import RandomForestClassifier\n",
    "from sklearn.model_selection import GridSearchCV\n",
    "import pandas as pd\n",
    "\n",
    "# Load data\n",
    "data = pd.read_csv(\"data_prepped.csv\")\n",
    "X = data.drop(\"Target\", axis=1)\n",
    "y = data[\"Target\"]\n",
    "\n",
    "# Define feature types\n",
    "one_hot_columns = [\n",
    "    \"Marital status\",\n",
    "    \"Application mode\",\n",
    "    \"Course\",\n",
    "    \"Previous qualification (grade)\",\n",
    "    \"Nacionality\",\n",
    "    \"Mother's qualification\",\n",
    "    \"Father's qualification\",\n",
    "    \"Mother's occupation\",\n",
    "    \"Father's occupation\",\n",
    "]\n",
    "\n",
    "numeric_columns = [col for col in X.columns if col not in one_hot_columns]\n",
    "\n",
    "# Preprocessing\n",
    "preprocessor = ColumnTransformer(\n",
    "    transformers=[\n",
    "        ('num', StandardScaler(), numeric_columns),\n",
    "        ('cat', OneHotEncoder(handle_unknown='ignore', sparse_output=False), one_hot_columns)\n",
    "    ]\n",
    ")\n",
    "\n",
    "# Create pipeline with Random Forest\n",
    "rf_pipe = Pipeline(steps=[\n",
    "    ('preprocessor', preprocessor),\n",
    "    ('classifier', RandomForestClassifier(\n",
    "        random_state=42,\n",
    "        class_weight='balanced',\n",
    "        n_jobs=-1\n",
    "    ))\n",
    "])\n",
    "\n",
    "# Define hyperparameter grid for Random Forest\n",
    "param_grid = {\n",
    "    \"classifier__n_estimators\": [700, 800],\n",
    "    \"classifier__max_depth\": [30, 50],\n",
    "    \"classifier__min_samples_split\": [2, 5],\n",
    "    \"classifier__min_samples_leaf\": [2, 4],\n",
    "    \"classifier__max_features\": ['log2', 0.5]\n",
    "}\n",
    "\n",
    "param_grid_ = {\n",
    "    \"classifier__n_estimators\": [300, 500],\n",
    "    \"classifier__max_depth\": [20, 30],\n",
    "    \"classifier__max_features\": [\"sqrt\", 0.5]\n",
    "}\n",
    "\n",
    "# Grid search with cross-validation\n",
    "grid_search = GridSearchCV(\n",
    "    estimator=rf_pipe,\n",
    "    param_grid=param_grid,\n",
    "    cv=5,\n",
    "    scoring='neg_log_loss',\n",
    "    n_jobs=-1,\n",
    "    verbose=1,\n",
    "    return_train_score=True\n",
    ")\n",
    "\n",
    "\n",
    "grid_search.fit(X, y)\n",
    "\n",
    "print(f\"Best parameters: {grid_search.best_params_}\")\n",
    "print(f\"Best cross-validation log loss: {-grid_search.best_score_:.3f}\")"
   ]
  },
  {
   "cell_type": "code",
   "execution_count": null,
   "id": "9a0cecb8",
   "metadata": {},
   "outputs": [],
   "source": []
  }
 ],
 "metadata": {
  "kernelspec": {
   "display_name": "Python 3",
   "language": "python",
   "name": "python3"
  },
  "language_info": {
   "codemirror_mode": {
    "name": "ipython",
    "version": 3
   },
   "file_extension": ".py",
   "mimetype": "text/x-python",
   "name": "python",
   "nbconvert_exporter": "python",
   "pygments_lexer": "ipython3",
   "version": "3.12.10"
  }
 },
 "nbformat": 4,
 "nbformat_minor": 5
}
