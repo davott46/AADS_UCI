{
 "cells": [
  {
   "cell_type": "markdown",
   "id": "e9e98e1a",
   "metadata": {},
   "source": [
    "# AADS"
   ]
  },
  {
   "cell_type": "markdown",
   "id": "4fbcff45",
   "metadata": {},
   "source": [
    "## Business Idea:\n",
    "\n",
    "A private uni wants to maximize the number of students that graduate. It therefore wants to assign a system that provides an early risk assessment of the probability of students dropping out, so that the uni can take counter measures. Put a value to minimizing the number of students dropping out: Rankings, reputation, grants, marketing, etc.\n",
    "\n",
    "## Steps:\n",
    "1. One-hot encoding + standardization\n",
    "2. Reassign enrolled classes, based on knn. Check if distribution of reassigned labels makes sense (10-15% drop out)\n",
    "3. Train log-regression model\n",
    "4. Train XGBoost model\n",
    "5. Evaluate using AUC and others"
   ]
  },
  {
   "cell_type": "markdown",
   "id": "fb629e8f",
   "metadata": {},
   "source": [
    "### Agenda\n",
    "\n",
    "1. Describe the problem:\n",
    "    - Private Uni wants to minimize the number of students that dropout, for Image / Marketing purposes\n",
    "    - Show that dropout negatively affects the rankings of the uni and how image correlates with endorsements / funding / returns\n",
    "    - To this end, risk prediction after first two semesters to estimate dropout chance for each student -> Probabilistic approach\n",
    "2. Describe data\n",
    "    - Initially three class problem, now only two class problem\n",
    "    - No missings\n",
    "    - Number of observations\n",
    "    - Data contained\n",
    "3. Descriptive analysis\n",
    "    - Distribution of classes\n",
    "    - Correlation of features with classes\n",
    "    - etc.\n",
    "4. Data processing pipeline:\n",
    "    - Conversion three class problem -> two class problem\n",
    "    - OneHotEncoding\n",
    "    - StandardScaler\n",
    "5. Model description\n",
    "    - Logistic Regression\n",
    "    - Random Forest\n",
    "    - Gradient Boosting\n",
    "6. Model Results and interpetation\n",
    "    - Histplot for (in) correctly assigned instances\n",
    "    - Precisin-Recall tradeoff\n",
    "    - Table with different metrics (F1, Recall, etc.)\n",
    "7. Conclusion and outlook\n",
    "    - What did we show? Which model did perform best?\n",
    "    - What is further data that could provide better results? \n",
    "    - What are other models / approaches that could provide better results? (voting or mixing models...)"
   ]
  },
  {
   "cell_type": "markdown",
   "id": "9b8a8ba0",
   "metadata": {},
   "source": []
  }
 ],
 "metadata": {
  "kernelspec": {
   "display_name": "Python 3",
   "language": "python",
   "name": "python3"
  },
  "language_info": {
   "name": "python",
   "version": "3.12.10"
  }
 },
 "nbformat": 4,
 "nbformat_minor": 5
}
